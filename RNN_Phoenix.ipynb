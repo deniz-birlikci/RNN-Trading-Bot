{
  "cells": [
    {
      "cell_type": "code",
      "execution_count": null,
      "metadata": {
        "id": "jffhAc-xtC73"
      },
      "outputs": [],
      "source": []
    }
  ],
  "metadata": {
    "colab": {
      "authorship_tag": "ABX9TyO/ZQHl4Sy1P4JLaf4ayqeA",
      "include_colab_link": true,
      "name": "RNN_Phoenix.ipynb",
      "provenance": []
    },
    "kernelspec": {
      "display_name": "Python 3.9.1 ('vevn': venv)",
      "language": "python",
      "name": "python3"
    },
    "language_info": {
      "name": "python",
      "version": "3.9.1"
    },
    "vscode": {
      "interpreter": {
        "hash": "66ac0428a623b8d4e9fd3bce2ecacf1b98da86be95908d796c5303507bd7cc2a"
      }
    }
  },
  "nbformat": 4,
  "nbformat_minor": 0
}
