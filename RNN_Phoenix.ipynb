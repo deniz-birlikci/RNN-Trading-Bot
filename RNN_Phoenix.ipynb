{
  "cells": [
    {
      "cell_type": "code",
      "execution_count": 8,
      "metadata": {},
      "outputs": [],
      "source": [
        "import numpy as np\n",
        "import pandas as pd\n",
        "import enum"
      ]
    },
    {
      "cell_type": "code",
      "execution_count": 7,
      "metadata": {},
      "outputs": [],
      "source": [
        "class Indicator(enum.Enum):\n",
        "    Green = 'Green Line'\n",
        "    Red = 'Red RSI'\n",
        "    LSMA = 'LSMA'\n",
        "    Energy = 'Energy'\n",
        "    Pressure = 'Pressure'\n",
        "    \n",
        "    indicator_values = [Green, Red, LSMA, Energy]\n",
        "    \n",
        "    green_red_cross = 'green_red_cross'\n",
        "    green_energy_delta = 'green_energy_delta'\n",
        "    green_energy_cross = 'green_energy_cross'"
      ]
    },
    {
      "cell_type": "code",
      "execution_count": null,
      "metadata": {},
      "outputs": [],
      "source": [
        "def center_to_50(df):\n",
        "    \"\"\"Takes a dataframe with indicator values in it, which are between\n",
        "    [0,100] range. The author of the indicator consideres the 50 level\n",
        "    as the true \"0\" level with all values below 50 are interpreted as \n",
        "    'negative'. This function subtracts 50 from all indicator values \n",
        "    to represent them as a delta to the true 0 line.\n",
        "\n",
        "    Args:\n",
        "        df (pd.DataFrame): Dataframe with the indicator values\n",
        "    \"\"\"    \n",
        "    cols_to_center = [\n",
        "        Indicator.Green, Indicator.Red, Indicator.LSMA, Indicator.Energy\n",
        "    ]\n",
        "    \n",
        "    for col in cols_to_center:\n",
        "        df[col] = df[col] - 50\n",
        "\n",
        "def represent_pressure_as_binary(df):\n",
        "    \"\"\"The pressure dots are placed right underneath the green line, \n",
        "    hence, their absolute value is of no significance. The only\n",
        "    interesting observation is whether there is pressure or not. \n",
        "    \n",
        "    When there is no pressure, the values will be NaN. Hence, we can \n",
        "    use the numpy isfinite function to represent pressure as a binary\n",
        "    array, whether there is or there isn't pressure.\n",
        "\n",
        "    This binary array is replaces the old pressure array in the df.\n",
        "    \n",
        "    Args:\n",
        "        df (pd.DataFrame): Dataframe with the indicator values\n",
        "    \"\"\"    \n",
        "    pressure_arr = df[Indicator.Pressure].to_numpy().reshape(-1,)\n",
        "    is_finite = np.isfinite(pressure_arr)\n",
        "    b_pressure_arr = is_finite.astype(int)\n",
        "    \n",
        "    df[Indicator.Pressure] = b_pressure_arr\n",
        "\n",
        "def calc_crossover(main_array, second_array):\n",
        "    \"\"\"_summary_\n",
        "\n",
        "    Args:\n",
        "        main_array (_type_): _description_\n",
        "        second_array (_type_): _description_\n",
        "\n",
        "    Returns:\n",
        "        _type_: _description_\n",
        "    \"\"\"    \n",
        "    main_array = np.array(main_array)\n",
        "    second_array = np.array(second_array)\n",
        "    \n",
        "    is_above = (main_array > second_array).astype(int)\n",
        "    change = np.diff(is_above)\n",
        "    cross = np.insert(change, 0, 0)\n",
        "    \n",
        "    return cross\n",
        "\n",
        "def add_green_rsi_crossover(df):\n",
        "    new_col_name = Indicator.green_energy_cross\n",
        "    \n",
        "    green_arr = df[Indicator.Green].to_numpy().reshape(-1,)\n",
        "    red_arr = df[Indicator.Red].to_numpy().reshape(-1,)\n",
        "    \n",
        "    cross = calc_crossover(green_arr, red_arr)\n",
        "    df[new_col_name] = cross\n",
        "    \n",
        "def add_green_energy_crossover(df):\n",
        "    return\n",
        "\n",
        "def add_green_energy_delta(df):\n",
        "    return"
      ]
    }
  ],
  "metadata": {
    "colab": {
      "authorship_tag": "ABX9TyO/ZQHl4Sy1P4JLaf4ayqeA",
      "include_colab_link": true,
      "name": "RNN_Phoenix.ipynb",
      "provenance": []
    },
    "kernelspec": {
      "display_name": "Python 3.9.1 ('env': venv)",
      "language": "python",
      "name": "python3"
    },
    "language_info": {
      "codemirror_mode": {
        "name": "ipython",
        "version": 3
      },
      "file_extension": ".py",
      "mimetype": "text/x-python",
      "name": "python",
      "nbconvert_exporter": "python",
      "pygments_lexer": "ipython3",
      "version": "3.9.1"
    },
    "vscode": {
      "interpreter": {
        "hash": "1e1a58078b27a56e01f11cd4acd6eaaf6c51a5284bdc429596bd33a9031803c8"
      }
    }
  },
  "nbformat": 4,
  "nbformat_minor": 0
}
